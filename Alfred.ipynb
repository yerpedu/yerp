{
  "nbformat": 4,
  "nbformat_minor": 0,
  "metadata": {
    "colab": {
      "provenance": [],
      "authorship_tag": "ABX9TyPO/NAHWq1zZ2kq/JC8cEfW"
    },
    "kernelspec": {
      "name": "python3",
      "display_name": "Python 3"
    },
    "language_info": {
      "name": "python"
    }
  },
  "cells": [
    {
      "cell_type": "code",
      "execution_count": null,
      "metadata": {
        "id": "lBpgyCa4jeQA"
      },
      "outputs": [],
      "source": [
        "#Alfred solves your quadratic equations!\n",
        "# a(x^2) + bx + c = d\n",
        "\n",
        "e = str(input(\"Ah, Master Wayne. Are you ready for me to solve your quadratic eqations? (Please capitalize your words, Batman!) \"))\n",
        "\n",
        "def Alfred():\n",
        "  if (e == \"Yes\"):\n",
        "    def sol():\n",
        "      a = int(input(\"Alright, Master Wayne. What is your 'a', sir? \"))\n",
        "      b = int(input(\"Noted, Batman. What is your 'b', sir? \"))\n",
        "      c = int(input(\"And what is your c, sir? \"))\n",
        "      p = ((b**2)-4*a*c)\n",
        "      x = (-b+((p**(1/2)))/(2*a))\n",
        "      y = (-b-(p**(1/2)))/(2*a)\n",
        "\n",
        "      print(\"I'm assuming d = 0, Batman.\")\n",
        "      import time\n",
        "      time.sleep(3)\n",
        "      print(\"Hmmm, I've almost got it, Master Bruce.\")\n",
        "      time.sleep(3)\n",
        "\n",
        "      if (p < 0):\n",
        "        print(\"No real answer exists, yo! *mic drop*\")\n",
        "\n",
        "      else:\n",
        "        print(\"Well, Master Wayne, I've calculated the roots for you to use in your Batwing. Here they are:\")\n",
        "        print(x, y)\n",
        "\n",
        "    sol()\n",
        "\n",
        "  else:\n",
        "    print(\"Whenever you're ready, sir.\")\n",
        "\n",
        "Alfred()"
      ]
    }
  ]
}